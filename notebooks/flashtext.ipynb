{
 "cells": [
  {
   "cell_type": "code",
   "execution_count": 3,
   "metadata": {},
   "outputs": [
    {
     "data": {
      "text/plain": [
       "['New York', 'Bay Area']"
      ]
     },
     "execution_count": 3,
     "metadata": {},
     "output_type": "execute_result"
    }
   ],
   "source": [
    "from flashtext import KeywordProcessor\n",
    "\n",
    "#! Extract keywords\n",
    "keyword_processor = KeywordProcessor()\n",
    "keyword_processor.add_keyword(\"Big Apple\", \"New York\")\n",
    "keyword_processor.add_keyword(\"Bay Area\")\n",
    "keyword_found = keyword_processor.extract_keywords(\"I love Big Apple and Bay Area\")\n",
    "keyword_found"
   ]
  },
  {
   "cell_type": "markdown",
   "metadata": {},
   "source": [
    "# Replace Keywords"
   ]
  },
  {
   "cell_type": "code",
   "execution_count": 4,
   "metadata": {},
   "outputs": [
    {
     "data": {
      "text/plain": [
       "'I love New York and NCR region.'"
      ]
     },
     "execution_count": 4,
     "metadata": {},
     "output_type": "execute_result"
    }
   ],
   "source": [
    "keyword_processor.add_keyword(\"New Delhi\", \"NCR region\")\n",
    "new_sentence = keyword_processor.replace_keywords(\"I love Big Apple and new delhi.\")\n",
    "new_sentence"
   ]
  },
  {
   "cell_type": "markdown",
   "metadata": {},
   "source": [
    "#  Case Sensitive Example"
   ]
  },
  {
   "cell_type": "code",
   "execution_count": 5,
   "metadata": {},
   "outputs": [
    {
     "data": {
      "text/plain": [
       "['New York', 'Bay Area']"
      ]
     },
     "execution_count": 5,
     "metadata": {},
     "output_type": "execute_result"
    }
   ],
   "source": [
    "from flashtext import KeywordProcessor\n",
    "\n",
    "keyword_processor = KeywordProcessor(case_sensitive=True)\n",
    "keyword_processor.add_keyword(\"Big Apple\", \"New York\")\n",
    "keyword_processor.add_keyword(\"Bay Area\")\n",
    "keyword_found = keyword_processor.extract_keywords(\"I love Big Apple and Bay Area\")\n",
    "keyword_found"
   ]
  },
  {
   "cell_type": "markdown",
   "metadata": {},
   "source": [
    "# Span of keywords extracted"
   ]
  },
  {
   "cell_type": "code",
   "execution_count": 6,
   "metadata": {},
   "outputs": [
    {
     "data": {
      "text/plain": [
       "[('New York', 7, 16), ('Bay Area', 21, 29)]"
      ]
     },
     "execution_count": 6,
     "metadata": {},
     "output_type": "execute_result"
    }
   ],
   "source": [
    "from flashtext import KeywordProcessor\n",
    "\n",
    "keyword_processor = KeywordProcessor()\n",
    "keyword_processor.add_keyword(\"Big Apple\", \"New York\")\n",
    "keyword_processor.add_keyword(\"Bay Area\")\n",
    "keywords_found = keyword_processor.extract_keywords(\n",
    "    \"I love big Apple and Bay Area.\", span_info=True\n",
    ")\n",
    "keywords_found"
   ]
  },
  {
   "cell_type": "code",
   "execution_count": 7,
   "metadata": {},
   "outputs": [
    {
     "data": {
      "text/plain": [
       "[('Monument', 'Taj Mahal'), ('Location', 'Delhi')]"
      ]
     },
     "execution_count": 7,
     "metadata": {},
     "output_type": "execute_result"
    }
   ],
   "source": [
    "from flashtext import KeywordProcessor\n",
    "\n",
    "kp = KeywordProcessor()\n",
    "kp.add_keyword(\"Taj Mahal\", (\"Monument\", \"Taj Mahal\"))\n",
    "kp.add_keyword(\"Delhi\", (\"Location\", \"Delhi\"))\n",
    "kp.extract_keywords(\"Taj Mahal is in Delhi.\")"
   ]
  },
  {
   "cell_type": "markdown",
   "metadata": {},
   "source": [
    "# Add Mutliple Keywords simulationesosly \n"
   ]
  },
  {
   "cell_type": "code",
   "execution_count": 8,
   "metadata": {},
   "outputs": [
    {
     "data": {
      "text/plain": [
       "['product management', 'java']"
      ]
     },
     "execution_count": 8,
     "metadata": {},
     "output_type": "execute_result"
    }
   ],
   "source": [
    "from flashtext import KeywordProcessor\n",
    "\n",
    "keyword_processor = KeywordProcessor()\n",
    "keyword_dict = {\n",
    "    \"java\": [\"java_2e\", \"java programming\"],\n",
    "    \"product management\": [\"PM\", \"product manager\"],\n",
    "}\n",
    "keyword_processor.add_keywords_from_dict(keyword_dict)\n",
    "keyword_processor.add_keywords_from_list([\"java\", \"python\"])\n",
    "keyword_processor.extract_keywords(\"I am a product manager and for a java_2e platform\")"
   ]
  },
  {
   "cell_type": "code",
   "execution_count": 9,
   "metadata": {},
   "outputs": [
    {
     "data": {
      "text/plain": [
       "{'java_2e': 'java',\n",
       " 'java programming': 'java',\n",
       " 'java': 'java',\n",
       " 'pm': 'product management',\n",
       " 'product manager': 'product management',\n",
       " 'python': 'python'}"
      ]
     },
     "execution_count": 9,
     "metadata": {},
     "output_type": "execute_result"
    }
   ],
   "source": [
    "keyword_processor.get_all_keywords()\n"
   ]
  },
  {
   "cell_type": "code",
   "execution_count": null,
   "metadata": {},
   "outputs": [],
   "source": []
  },
  {
   "cell_type": "code",
   "execution_count": null,
   "metadata": {},
   "outputs": [],
   "source": []
  },
  {
   "cell_type": "code",
   "execution_count": null,
   "metadata": {},
   "outputs": [],
   "source": []
  },
  {
   "cell_type": "code",
   "execution_count": null,
   "metadata": {},
   "outputs": [],
   "source": []
  },
  {
   "cell_type": "code",
   "execution_count": null,
   "metadata": {},
   "outputs": [],
   "source": []
  }
 ],
 "metadata": {
  "kernelspec": {
   "display_name": "base",
   "language": "python",
   "name": "python3"
  },
  "language_info": {
   "codemirror_mode": {
    "name": "ipython",
    "version": 3
   },
   "file_extension": ".py",
   "mimetype": "text/x-python",
   "name": "python",
   "nbconvert_exporter": "python",
   "pygments_lexer": "ipython3",
   "version": "3.10.9"
  }
 },
 "nbformat": 4,
 "nbformat_minor": 2
}
