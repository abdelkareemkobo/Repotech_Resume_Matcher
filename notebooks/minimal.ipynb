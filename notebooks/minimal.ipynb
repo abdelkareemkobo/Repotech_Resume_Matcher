{
 "cells": [
  {
   "cell_type": "code",
   "execution_count": null,
   "metadata": {},
   "outputs": [],
   "source": [
    "def get_pdf_files(file_path):\n",
    "    if os.path.exists(file_path):\n",
    "        return glob.glob(os.path.join(file_path, '*.pdf'))\n",
    "    else:\n",
    "        return []\n",
    "def read_multiple_pdf(file_path:str)->list:\n",
    "    pdf_files = get_pdf_files(file_path)\n",
    "    output= []\n",
    "    for file in pdf_files:\n",
    "        try:\n",
    "            with open(file,\"rb\") as f:\n",
    "                pdf_reader = PdfReader(f)\n",
    "                count = pdf_reader.getNumPages()\n",
    "                for i in range(count):\n",
    "                    page = pdf_reader.getPage(i)\n",
    "                    output.append(page.extractText())\n",
    "        except Exception as e:\n",
    "            print(f\"Error reading file '{file}': {str(e)}\")\n",
    "    return output\n",
    "def read_single_pdf(file_path:str)->str:\n",
    "    output = []\n",
    "    try:\n",
    "        with open(file_path,'rb') as f:\n",
    "            pdf_reader = PdfReader(f)\n",
    "            count = len(pdf_reader.pages)\n",
    "            for i in range(count):\n",
    "                page = pdf_reader.pages[i]\n",
    "                output.append(page.extract_text())\n",
    "    except Exception as e:\n",
    "        print(f\"Error reading file '{file_path}': {str(e)}\")\n",
    "    return str(\" \".join(output))\n",
    "def get_filenames_from_dir(directory_path:str):  \n",
    "    filenames = [f for f in os.listdir(directory_path) \n",
    "                 if os.path.isfile(os.path.join(directory_path, f)) \n",
    "                 and f != '.DS_Store']\n",
    "    return filenames\n"
   ]
  },
  {
   "cell_type": "code",
   "execution_count": null,
   "metadata": {},
   "outputs": [],
   "source": []
  }
 ],
 "metadata": {
  "kernelspec": {
   "display_name": "base",
   "language": "python",
   "name": "python3"
  },
  "language_info": {
   "codemirror_mode": {
    "name": "ipython",
    "version": 3
   },
   "file_extension": ".py",
   "mimetype": "text/x-python",
   "name": "python",
   "nbconvert_exporter": "python",
   "pygments_lexer": "ipython3",
   "version": "3.10.9"
  },
  "orig_nbformat": 4
 },
 "nbformat": 4,
 "nbformat_minor": 2
}
