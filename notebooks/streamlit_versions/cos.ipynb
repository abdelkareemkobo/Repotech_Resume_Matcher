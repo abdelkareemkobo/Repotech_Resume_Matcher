{
 "cells": [
  {
   "cell_type": "code",
   "execution_count": 38,
   "metadata": {},
   "outputs": [],
   "source": [
    "keywords_list = \"\"\"\n",
    "Product management\n",
    "technology\n",
    "software development\n",
    "product strategy\n",
    "roadmap\n",
    "feature definition\n",
    "competition\n",
    "pricing\n",
    "revenue\n",
    "profitability\n",
    "beta pilot\n",
    "early-stage product\n",
    "third party\n",
    "partnership\n",
    "licensing\n",
    "enterprise\n",
    "solution\n",
    "system\n",
    "scalability\n",
    "security\n",
    "efficiency\n",
    "architecture\n",
    "assessment\n",
    "organization\n",
    "infrastructure\n",
    "crm\n",
    "erp\n",
    "data\n",
    "iot\n",
    "innovation\n",
    "efficiency\n",
    "technology\n",
    "vendor\n",
    "solution\n",
    "contract\n",
    "compliance\n",
    "standard\n",
    "team\n",
    "foster\n",
    "culture\n",
    "development\n",
    "achievement\n",
    "digital\n",
    "transformation\n",
    "new\n",
    "implementation\n",
    "data warehouse\n",
    "project\n",
    "business\n",
    "process\n",
    "reengineering\n",
    "tool\n",
    "quality\n",
    "variety\n",
    "entity\n",
    "work\n",
    "experience\n",
    "architect\n",
    "gaca\n",
    "january\n",
    "framework\n",
    "strategy\n",
    "align\n",
    "initiative\n",
    "business\n",
    "goal\n",
    "objective\n",
    "cross\n",
    "team\n",
    "system\n",
    "scalability\n",
    "security\n",
    "e\n",
    "efficiency\n",
    "architecture\n",
    "assessment\n",
    "organization\n",
    "infrastructure\n",
    "cobit\n",
    "data analytics\n",
    "project management\n",
    "system architecture\n",
    "itil\n",
    "service management\n",
    "governance\n",
    "ict\n",
    "ics\n",
    "ipc\n",
    "isaca\n",
    "accreditations\n",
    "axelos\n",
    "scrum\n",
    "scrum.org\n",
    "team\n",
    "practice\n",
    "itil\n",
    "foundation\n",
    "service delivery\n",
    "skill\n",
    "stakeholder\n",
    "management\n",
    "leadership\n",
    "risk\n",
    "assessment\n",
    "mitigation\n",
    "communication\n",
    "presentation\n",
    "interests\n",
    "data\n",
    "analytics\n",
    "ict\n",
    "enterprise\n",
    "solution\n",
    "design\n",
    "implementation\n",
    "strategy\n",
    "development\n",
    "cloud\n",
    "analytics\n",
    "microsoft\n",
    "technology\n",
    "sharepoint\n",
    "server\n",
    "software\n",
    "engineering\n",
    "life cycle\n",
    "development activity\n",
    "resource allocation\n",
    "completion\n",
    "project\n",
    "budg\n",
    "et\n",
    "quality\n",
    "user\n",
    "satisfaction\n",
    "responsibility\n",
    "sales\n",
    "selection\n",
    "design\n",
    "solution\n",
    "architecture\n",
    "client\n",
    "budget\n",
    "custom\n",
    "development\n",
    "solution\n",
    "rcj\n",
    "naqaba\n",
    "al\n",
    "jazeera\n",
    "paint\n",
    "medad\n",
    "web\n",
    "user\n",
    "client\n",
    "relationship\n",
    "project management\n",
    "practice\n",
    "reduction\n",
    "project\n",
    "lead\n",
    "time\n",
    "web developer\n",
    "alawael\n",
    "microsoft technology\n",
    "sharepoint server\n",
    "software engineering\n",
    "life cycle development\n",
    "activity resource allocation\n",
    "completion project\n",
    "ict\n",
    "gsn\n",
    "integration\n",
    "governance\n",
    "sdlc\n",
    "implementation\n",
    "itil\n",
    "practice\n",
    "service management\n",
    "itsm\n",
    "process\n",
    "delivery website\n",
    "king\n",
    "abdelaziz\n",
    "king\n",
    "khalid\n",
    "king\n",
    "fahd\n",
    "airport\n",
    "aviation\n",
    "investigation\n",
    "bureau\n",
    "customer\n",
    "protection\n",
    "department\n",
    "saudi\n",
    "academy\n",
    "aviation\n",
    "project\n",
    "government\n",
    "integration\n",
    "gsn\n",
    "integration\n",
    "governance\n",
    "sdlc\n",
    "implementation\n",
    "itil\n",
    "practice\n",
    "service management\n",
    "itsm\n",
    "process\n",
    "\"\"\""
   ]
  },
  {
   "cell_type": "code",
   "execution_count": 39,
   "metadata": {},
   "outputs": [],
   "source": [
    "resume_cleaned = \"Tamer El Sayyad  \\nSaudi Arabia     +91   in/tamer elsayad  \\nSummary  \\nExperienced Enterprise Architect with 21 years of total experience Proven track record of success in \\ndeveloping implementing and managing complex enterprise solutions  with a balance of technology \\nmanagement and business skills Solid theoretical and practical backgrounds accompanied by academic studies affect all aspects of professional conduct Excellent problem solving and time management skills \\nManaged and mentored teams of professionals to the delivery of high profile projects with an excellent \\nstandard of quality serving a variety of verticals and governmental entities   \\nWork Experiences  \\nEnterprise  Architect  GACA  January 2021  Present  \\n Developed and implemented enterprise architecture frameworks and strategies to align IT initiatives with \\nbusiness goals and objectives  \\n Led cross functional teams in designing and implementing enterprise wide systems ensuring scalability \\nsecurity and e fficiency  \\n Conducted architecture assessments and recommended improving the organization's IT infrastructure and \\nsystems  \\n Played a key role in digital transformation initiatives leveraging emerging technologies such as cloud computing big data and IoT to drive innovation and improve operational efficiency  \\n Evaluated and selected technology vendors and solutions negotiating contracts and ensuring compliance with \\narchitectural standards  \\n Mentored and guided junior architects and technical teams foster ing a culture of continuous learning and \\nprofessional development  \\n Achievements include GACA Digital strategy GACA Digital transformation New CRM implementation MS \\nDynamic CRM New e services portal Data warehouse projects business process reenginee ring EA tool \\nimplementation Qiyas of digital transformation journey  \\nSolution Architect  GACA  December  2015  December  2020  \\n Gathered requirements and specifications from clients and users ensuring clear project understanding  \\n Led design and implementation of complex enterprise solutions including ERP and CRM systems ensuring \\nseamless integration  \\n Ensured development teams adhered to architectural guidelines maintaining standards throughout the \\nsoftware development lifecycle  \\n Provided technical guidance and support resolving complex issues  and ensuring successful project delivery  \\n Spearheaded a 2 million SR E Government transformation project as an application architect overseeing the \\ndocumentation of As Is architecture designing  and developing the To Be Target and performing a gap \\nanalysis to identify architectural gaps and create a roadmap  \\n Orchestrated the development of the Drone Licensee Portal  Violations Management Portal  enhancing \\naccessibility and efficiency in business processes  \\n Led the privatization project for all Saudi Airports streamlining operations and improving overall efficiency  \\n Managed the seamless migration of EXA data and EXA logic to the cloud resulting in enhanced data accessibility \\nand processi ng capabilities  \\nApplication Development Team Lead  GACA   December 2009   December 2015 \\n Led numerous projects utilizing various technologies Oracle Web Center JAVA SharePoint ASPNET for large  \\nand small scale  initiatives  \\n Oversaw the migration of aviation systems converting Mainframe and Client Server to a modern Enterprise \\nSOA architecture deploying  critical back office functions as business services on the integration layer  \\n Managed a 1 million SR GSN integration project providing  12 e services via Government Secure Network GSN \\nand configuring for future  integration while applying SOA governance through SDLC    Participate in  the implementation of ITIL practices optimizing IT service management ITSM processes  \\n Successfully deliv ered websites for King Abdelaziz King Khalid and King Fahd airports Aviation Investigation \\nBureau Customer Protection  Department and Saudi Academy for Civil Aviation  \\n Managed significant projects including a 25 million SR GACA portal a 4 million SR  Executive Office portal and a \\n22 million SR Enterprise  Content Management capturing managing and delivering organizational content and \\ndocuments  \\n Led a cross functional application development team resulting in a 23% improvement in team productivity and \\nthe successful deployment  of 142 services across 6 applications in the organization  \\nTechnical Team Leader   Digital Chains  June 2004  December 2009  \\n Led a 15 member team in delivering customized solutions using Microsoft technologies including SharePoint \\n2007 and SQL Server  following proper software engineering life cycle  \\n Strategically planned and managed daily weekly and monthly development activities optimizing resource \\nallocation to ensure the  completion of projects within budg et maintaining high quality and achieving user \\nsatisfaction  \\n Assumed responsibility for pre sales activities involving the selection and design of proposed solutions' \\narchitecture for clients  \\n Successfully delivered on budget custom development solution s for RCJ  DMMR Naqaba Al Jazeera Paints \\nMedad web portals leading to heightened user satisfaction  and enhanced  client relationships Implemented \\nagile project management practices resulting in a 20% reduction in project lead time  \\nSenior Web Developer   AlAwael November  2002  June 2004  \\n \\nCertifications  \\n TOGAF 92 certification  The Open Group  \\nThe most important endorsement for Enterprise Architects  \\n COBIT 2019 foundation  ISACA  \\nGovernance and management of enterprise information technology  \\n Azure Fundamentals Certified  Microsoft  \\nThe fundamentals of the cloud along with Azure's services architecture governance and management  \\n SOA Certified Professional  Arcitura Education  \\nFormal accreditations that prov e proficiency in specific areas of services based technology computing and \\narchitecture  \\n Professional Scrum Master  Scrumorg  \\nA Scrum Master is a guide to the Scrum team they help the team understand all Scrum practices  \\n ITIL Foundation Service Management  Axelos  \\nUnderstand the key concepts of IT and digital service delivery\\nSkills  \\n Technical Skills  Enterprise Architecture Solution Design and Implementation IT Strategy Development Cloud \\nComputing  Business Analysis Microsoft Technologies SharePoint CRM SSIS  SQL Server HTML CSS \\nJavaScript  \\n Soft Skills Stakeholder Management Technical Leadership Risk Assessment and Mitigation Communication \\nand Presentation  \\n Areas of Interest Data Analytics Project Management System Architecture ITIL Service Management Governance COBIT  \\nEducation  \\n BSc  Computer Science  Mansoura University  Mansoura   Egypt  2002  \\n Master of Business A dministrator MBA  GBS  2021\""
   ]
  },
  {
   "cell_type": "code",
   "execution_count": 40,
   "metadata": {},
   "outputs": [],
   "source": [
    "job_desc = \"Job Description Product Manager 10+ Years of Experience\\nTech Solutions San Francisco CA USA\\nAbout Us\\nTech Solutions is a global leader in the technology industry specializing in the development of cuttingedge\\nsoftware products We\\u2019re currently looking for a seasoned Product Manager with over 10 years of experience\\nto join our dynamic team\\nJob Description\\nThe Product Manager will be responsible for guiding the success of a product and leading the crossfunctional\\nteam that is responsible for improving it This is an important organizational role that sets the strategy\\nroadmap and feature definition for a product or product line\\nResponsibilities\\n\\u2022Define the product strategy and roadmap\\n\\u2022Deliver MRDs and PRDs with prioritized features and corresponding justification\\n\\u2022Work with external third parties to assess partnerships and licensing opportunities\\n\\u2022Run beta and pilot programs with earlystage products and samples\\n\\u2022Be an expert with respect to the competition\\n\\u2022Act as a leader within the company\\n\\u2022Develop the core positioning and messaging for the product\\n\\u2022Perform product demos to customers\\n\\u2022Set pricing to meet revenue and profitability goals\\nRequirements\\n\\u202210+ years of experience in product management\\n\\u2022Demonstrated success defining and launching excellent products\\n\\u2022Excellent written and verbal communication skills\\n\\u2022Technical background with experience in software development\\n\\u2022Excellent teamwork skills\\n\\u2022Proven ability to influence crossfunctional teams without formal authority\\n\\u2022Must be able to travel 20\\n\\u2022Bachelor\\u2019s degree MBA preferred\\n1 Benefits\\n\\u2022Competitive salary package\\n\\u2022Health dental and vision insurance\\n\\u2022Retirement savings plan\\n\\u2022Professional development opportunities\\n\\u2022Flexible work hours\\nTech Solutions is an equal opportunity employer We celebrate diversity and are committed to creating\\nan inclusive environment for all employees\\nHow to Apply\\nTo apply please submit your resume and a brief explanation of your relevant experience to  \\n \""
   ]
  },
  {
   "cell_type": "code",
   "execution_count": 41,
   "metadata": {},
   "outputs": [],
   "source": [
    "from sklearn.feature_extraction.text import TfidfVectorizer\n",
    "from sklearn.metrics.pairwise import cosine_similarity"
   ]
  },
  {
   "cell_type": "code",
   "execution_count": 42,
   "metadata": {},
   "outputs": [
    {
     "name": "stdout",
     "output_type": "stream",
     "text": [
      "Similarity Score: 0.51\n"
     ]
    }
   ],
   "source": [
    "tfidf_vectorizer = TfidfVectorizer()\n",
    "tfidf_matrix = tfidf_vectorizer.fit_transform([resume_cleaned, job_desc])\n",
    "cosine_sim = cosine_similarity(tfidf_matrix[0], tfidf_matrix[1])\n",
    "similarity = cosine_sim[0, 0]\n",
    "print(\"Similarity Score: {:.2f}\".format(similarity))"
   ]
  },
  {
   "cell_type": "code",
   "execution_count": 43,
   "metadata": {},
   "outputs": [],
   "source": [
    "# print(keywords_list.replace(\"\\n\", \" \"))"
   ]
  },
  {
   "cell_type": "code",
   "execution_count": 44,
   "metadata": {},
   "outputs": [],
   "source": [
    "keywords_list_ai = \"\"\" \n",
    "    Product management, technology, software development, product strategy, roadmap, feature definition, competition, pricing, revenue, profitability, beta pilot, early-stage product, third party partnerships, licensing, enterprise architect, technology architect, solution architect, leadership, cross-functional team, product line, no formal authority, excellent communication, expert, technical background, teamwork, professional development, flexible hours, competitive salary, health insurance, retirement saving, equal opportunity employer, diversity, inclusion, content management, document management, cross-application development, improvement, productivity, deployment, service application, organization, leader, digital chain, Scrum, Scrum Master, Scrum Team, Scrum Guide, ITIL, ITIL Foundation, ITSM, AXELOS, COBIT, SEO, Search Engine Optimization, Master of Business Administration, MBA, computing, master\n",
    "    \"\"\""
   ]
  },
  {
   "cell_type": "code",
   "execution_count": 45,
   "metadata": {},
   "outputs": [],
   "source": [
    "keywords_list_ai = keywords_list_ai.replace(\"\\n\", \" \").replace(\",\", \"\")"
   ]
  },
  {
   "cell_type": "code",
   "execution_count": 46,
   "metadata": {},
   "outputs": [
    {
     "name": "stdout",
     "output_type": "stream",
     "text": [
      "Similarity Score: 0.55\n"
     ]
    }
   ],
   "source": [
    "# resume_ai = resume_cleaned + keywords_list.replace(\"\\n\", \" \")\n",
    "resume_ai = resume_cleaned + keywords_list_ai\n",
    "tfidf_vectorizer = TfidfVectorizer()\n",
    "tfidf_matrix = tfidf_vectorizer.fit_transform([resume_ai, job_desc])\n",
    "cosine_sim = cosine_similarity(tfidf_matrix[0], tfidf_matrix[1])\n",
    "similarity = cosine_sim[0, 0]\n",
    "print(\"Similarity Score: {:.2f}\".format(similarity))"
   ]
  },
  {
   "cell_type": "markdown",
   "metadata": {},
   "source": [
    "### Trying to Fix it  "
   ]
  },
  {
   "cell_type": "code",
   "execution_count": 47,
   "metadata": {},
   "outputs": [
    {
     "name": "stdout",
     "output_type": "stream",
     "text": [
      "Similarity Score: 1.00\n"
     ]
    }
   ],
   "source": [
    "tfidf_vectorizer = TfidfVectorizer()\n",
    "tfidf_matrix = tfidf_vectorizer.fit_transform([resume_ai, resume_ai])\n",
    "cosine_sim = cosine_similarity(tfidf_matrix[0], tfidf_matrix[1])\n",
    "similarity = cosine_sim[0, 0]\n",
    "print(\"Similarity Score: {:.2f}\".format(similarity))"
   ]
  },
  {
   "cell_type": "markdown",
   "metadata": {},
   "source": [
    "# Revers Engineer from Job Scan\n",
    "- The product manager job title provided or found in the job description was not found in your resume. We recommend having the exact title of the job for which you're applying in your resume. This ensures you'll be found when a recruiter searches by job title. If you haven't held this position before, include it as part of your summary statement.\n",
    "# Suggestions\n",
    "1. Adding the job's company name and web address can help us provide you ATS-Specific tips\n",
    "2. Add The exact title of the job for which you're applying in your resume. "
   ]
  },
  {
   "cell_type": "markdown",
   "metadata": {},
   "source": [
    "# Notes \n",
    "1. Tamer Elsayed Applying to Product Manager is not good percent "
   ]
  },
  {
   "cell_type": "code",
   "execution_count": null,
   "metadata": {},
   "outputs": [],
   "source": []
  }
 ],
 "metadata": {
  "kernelspec": {
   "display_name": "base",
   "language": "python",
   "name": "python3"
  },
  "language_info": {
   "codemirror_mode": {
    "name": "ipython",
    "version": 3
   },
   "file_extension": ".py",
   "mimetype": "text/x-python",
   "name": "python",
   "nbconvert_exporter": "python",
   "pygments_lexer": "ipython3",
   "version": "3.10.9"
  }
 },
 "nbformat": 4,
 "nbformat_minor": 2
}
