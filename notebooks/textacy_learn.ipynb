{
 "cells": [
  {
   "cell_type": "code",
   "execution_count": 1,
   "metadata": {},
   "outputs": [
    {
     "name": "stderr",
     "output_type": "stream",
     "text": [
      "2023-10-07 16:36:38.744816: I tensorflow/core/platform/cpu_feature_guard.cc:182] This TensorFlow binary is optimized to use available CPU instructions in performance-critical operations.\n",
      "To enable the following instructions: AVX2 FMA, in other operations, rebuild TensorFlow with the appropriate compiler flags.\n",
      "2023-10-07 16:36:39.796947: W tensorflow/compiler/tf2tensorrt/utils/py_utils.cc:38] TF-TRT Warning: Could not find TensorRT\n",
      "2023-10-07 16:36:41.103244: I tensorflow/compiler/xla/stream_executor/cuda/cuda_gpu_executor.cc:996] successful NUMA node read from SysFS had negative value (-1), but there must be at least one NUMA node, so returning NUMA node zero. See more at https://github.com/torvalds/linux/blob/v6.0/Documentation/ABI/testing/sysfs-bus-pci#L344-L355\n",
      "2023-10-07 16:36:41.104263: I tensorflow/compiler/xla/stream_executor/cuda/cuda_gpu_executor.cc:996] successful NUMA node read from SysFS had negative value (-1), but there must be at least one NUMA node, so returning NUMA node zero. See more at https://github.com/torvalds/linux/blob/v6.0/Documentation/ABI/testing/sysfs-bus-pci#L344-L355\n",
      "2023-10-07 16:36:41.104420: I tensorflow/compiler/xla/stream_executor/cuda/cuda_gpu_executor.cc:996] successful NUMA node read from SysFS had negative value (-1), but there must be at least one NUMA node, so returning NUMA node zero. See more at https://github.com/torvalds/linux/blob/v6.0/Documentation/ABI/testing/sysfs-bus-pci#L344-L355\n"
     ]
    },
    {
     "name": "stdout",
     "output_type": "stream",
     "text": [
      "Doc(93 tokens: \"Many years later, as he faced the firing squad,...\")\n"
     ]
    }
   ],
   "source": [
    "import textacy\n",
    "\n",
    "text = (\n",
    "    \"Many years later, as he faced the firing squad, Colonel Aureliano Buendía \"\n",
    "    \"was to remember that distant afternoon when his father took him to discover ice. \"\n",
    "    \"At that time Macondo was a village of twenty adobe houses, built on the bank \"\n",
    "    \"of a river of clear water that ran along a bed of polished stones, which were \"\n",
    "    \"white and enormous, like prehistoric eggs. The world was so recent \"\n",
    "    \"that many things lacked names, and in order to indicate them it was necessary to point.\"\n",
    ")\n",
    "doc = textacy.make_spacy_doc(text, lang=\"en_core_web_md\")\n",
    "print(doc._.preview)"
   ]
  },
  {
   "cell_type": "code",
   "execution_count": 2,
   "metadata": {},
   "outputs": [
    {
     "data": {
      "text/plain": [
       "[Aureliano Buendía]"
      ]
     },
     "execution_count": 2,
     "metadata": {},
     "output_type": "execute_result"
    }
   ],
   "source": [
    "from textacy import extract\n",
    "\n",
    "list(extract.entities(doc, include_types={\"PERSON\", \"LOCATION\"}))"
   ]
  },
  {
   "cell_type": "code",
   "execution_count": 3,
   "metadata": {},
   "outputs": [
    {
     "data": {
      "text/plain": [
       "[SVOTriple(subject=[he], verb=[faced], object=[firing, squad]),\n",
       " SVOTriple(subject=[father], verb=[took], object=[him]),\n",
       " SVOTriple(subject=[things], verb=[lacked], object=[names])]"
      ]
     },
     "execution_count": 3,
     "metadata": {},
     "output_type": "execute_result"
    }
   ],
   "source": [
    "list(extract.subject_verb_object_triples(doc))\n"
   ]
  },
  {
   "cell_type": "code",
   "execution_count": 4,
   "metadata": {},
   "outputs": [
    {
     "data": {
      "text/plain": [
       "(84, 66)"
      ]
     },
     "execution_count": 4,
     "metadata": {},
     "output_type": "execute_result"
    }
   ],
   "source": [
    "from textacy import text_stats as ts\n",
    "\n",
    "ts.n_words(doc), ts.n_unique_words(doc)"
   ]
  },
  {
   "cell_type": "code",
   "execution_count": 5,
   "metadata": {},
   "outputs": [
    {
     "data": {
      "text/plain": [
       "0.7857142857142857"
      ]
     },
     "execution_count": 5,
     "metadata": {},
     "output_type": "execute_result"
    }
   ],
   "source": [
    "ts.diversity.ttr(doc)\n"
   ]
  },
  {
   "cell_type": "code",
   "execution_count": 6,
   "metadata": {},
   "outputs": [
    {
     "data": {
      "text/plain": [
       "10.922857142857143"
      ]
     },
     "execution_count": 6,
     "metadata": {},
     "output_type": "execute_result"
    }
   ],
   "source": [
    "ts.flesch_kincaid_grade_level(doc)\n"
   ]
  },
  {
   "cell_type": "code",
   "execution_count": 8,
   "metadata": {},
   "outputs": [],
   "source": [
    "other_doc = textacy.make_spacy_doc(\n",
    "    \"Finally, one Tuesday in December, at lunchtime, all at once he released the whole weight of his torment. \"\n",
    "    \"The children would remember for the rest of their lives the august solemnity with which their father, \"\n",
    "    \"devastated by his prolonged vigil and by the wrath of his imagination, revealed his discovery to them: \"\n",
    "    \"'The earth is round, like an orange.'\",\n",
    "    lang=\"en_core_web_md\",\n",
    ")\n"
   ]
  },
  {
   "cell_type": "code",
   "execution_count": 9,
   "metadata": {},
   "outputs": [
    {
     "data": {
      "text/plain": [
       "0.2693965517241379"
      ]
     },
     "execution_count": 9,
     "metadata": {},
     "output_type": "execute_result"
    }
   ],
   "source": [
    "from textacy import similarity\n",
    "\n",
    "similarity.levenshtein(doc.text, other_doc.text)"
   ]
  },
  {
   "cell_type": "code",
   "execution_count": 11,
   "metadata": {},
   "outputs": [
    {
     "data": {
      "text/plain": [
       "0.0914991421995628"
      ]
     },
     "execution_count": 11,
     "metadata": {},
     "output_type": "execute_result"
    }
   ],
   "source": [
    "similarity.cosine(\n",
    "    (tok.lemma_ for tok in extract.words(doc)),\n",
    "    (tok.lemma_ for tok in extract.words(other_doc)),\n",
    ")\n"
   ]
  },
  {
   "cell_type": "code",
   "execution_count": 13,
   "metadata": {},
   "outputs": [
    {
     "data": {
      "text/plain": [
       "{'father', 'like', 'remember'}"
      ]
     },
     "execution_count": 13,
     "metadata": {},
     "output_type": "execute_result"
    }
   ],
   "source": [
    "set(tok.text for tok in extract.words(doc)) & set(\n",
    "    tok.text for tok in extract.words(other_doc)\n",
    ")"
   ]
  },
  {
   "cell_type": "code",
   "execution_count": 14,
   "metadata": {},
   "outputs": [
    {
     "data": {
      "text/plain": [
       "True"
      ]
     },
     "execution_count": 14,
     "metadata": {},
     "output_type": "execute_result"
    }
   ],
   "source": [
    "ts.flesch_reading_ease(doc) > ts.flesch_reading_ease(other_doc)"
   ]
  },
  {
   "cell_type": "code",
   "execution_count": 15,
   "metadata": {},
   "outputs": [],
   "source": [
    "records = [\n",
    "    (\n",
    "        \"Many years later, as he faced the firing squad, Colonel Aureliano Buendía was to remember that distant afternoon when his father took him to discover ice. At that time Macondo was a village of twenty adobe houses, built on the bank of a river of clear water that ran along a bed of polished stones, which were white and enormous, like prehistoric eggs. The world was so recent that many things lacked names, and in order to indicate them it was necessary to point.\",\n",
    "        {\"title\": \"One Hundred Years of Solitude\", \"pub_yr\": 1967},\n",
    "    ),\n",
    "    (\n",
    "        \"Over the weekend the vultures got into the presidential palace by pecking through the screens on the balcony windows and the flapping of their wings stirred up the stagnant time inside, and at dawn on Monday the city awoke out of its lethargy of centuries with the warm, soft breeze of a great man dad and rotting grandeur.\",\n",
    "        {\"title\": \"The Autumn of the Patriarch\", \"pub_yr\": 1975},\n",
    "    ),\n",
    "    (\n",
    "        \"On the day they were going to kill him, Santiago Nasar got up at five-thirty in the morning to wait for the boat the bishop was coming on. He'd dreamed he was going through a grove of timber trees where a gentle drizzle was falling, and for an instant he was happy in his dream, but when he awoke he felt completely spattered with bird shit.\",\n",
    "        {\"title\": \"Chronicle of a Death Foretold\", \"pub_yr\": 1981},\n",
    "    ),\n",
    "    (\n",
    "        \"It was inevitable: the scent of bitter almonds always reminded him of the fate of unrequited love. Dr. Juvenal Urbino noticed it as soon as he entered the still darkened house where he had hurried on an urgent call to attend a case that for him had lost all urgency many years before. The Antillean refugee Jeremiah de Saint-Amour, disabled war veteran, photographer of children, and his most sympathetic opponent in chess, had escaped the torments of memory with the aromatic fumes of gold cyanide.\",\n",
    "        {\"title\": \"Love in the Time of Cholera\", \"pub_yr\": 1985},\n",
    "    ),\n",
    "    (\n",
    "        \"José Palacios, his oldest servant, found him floating naked with his eyes open in the purifying waters of his bath and thought he had drowned. He knew this was one of the many ways the General meditated, but the ecstasy in which he lay drifting seemed that of a man no longer of this world.\",\n",
    "        {\"title\": \"The General in His Labyrinth\", \"pub_yr\": 1989},\n",
    "    ),\n",
    "]"
   ]
  },
  {
   "cell_type": "code",
   "execution_count": 17,
   "metadata": {},
   "outputs": [
    {
     "name": "stdout",
     "output_type": "stream",
     "text": [
      "Corpus(5 docs, 383 tokens)\n"
     ]
    }
   ],
   "source": [
    "corpus = textacy.Corpus(\"en_core_web_md\", records)\n",
    "print(corpus)\n"
   ]
  },
  {
   "cell_type": "code",
   "execution_count": 18,
   "metadata": {},
   "outputs": [
    {
     "data": {
      "text/plain": [
       "11"
      ]
     },
     "execution_count": 18,
     "metadata": {},
     "output_type": "execute_result"
    }
   ],
   "source": [
    "corpus.n_sents\n"
   ]
  },
  {
   "cell_type": "code",
   "execution_count": 19,
   "metadata": {},
   "outputs": [
    {
     "data": {
      "text/plain": [
       "1981"
      ]
     },
     "execution_count": 19,
     "metadata": {},
     "output_type": "execute_result"
    }
   ],
   "source": [
    "import statistics\n",
    "\n",
    "corpus.agg_metadata(\"pub_yr\", statistics.median)"
   ]
  },
  {
   "cell_type": "code",
   "execution_count": 20,
   "metadata": {},
   "outputs": [
    {
     "data": {
      "text/plain": [
       "[('year', 2),\n",
       " ('time', 2),\n",
       " ('house', 2),\n",
       " ('water', 2),\n",
       " ('world', 2),\n",
       " ('get', 2),\n",
       " ('awake', 2),\n",
       " ('man', 2),\n",
       " ('go', 2),\n",
       " ('dream', 2),\n",
       " ('later', 1),\n",
       " ('face', 1),\n",
       " ('firing', 1),\n",
       " ('squad', 1),\n",
       " ('Colonel', 1),\n",
       " ('Aureliano', 1),\n",
       " ('Buendía', 1),\n",
       " ('remember', 1),\n",
       " ('distant', 1),\n",
       " ('afternoon', 1),\n",
       " ('father', 1),\n",
       " ('take', 1),\n",
       " ('discover', 1),\n",
       " ('ice', 1),\n",
       " ('Macondo', 1),\n",
       " ('village', 1),\n",
       " ('adobe', 1),\n",
       " ('build', 1),\n",
       " ('bank', 1),\n",
       " ('river', 1),\n",
       " ('clear', 1),\n",
       " ('run', 1),\n",
       " ('bed', 1),\n",
       " ('polished', 1),\n",
       " ('stone', 1),\n",
       " ('white', 1),\n",
       " ('enormous', 1),\n",
       " ('like', 1),\n",
       " ('prehistoric', 1),\n",
       " ('egg', 1),\n",
       " ('recent', 1),\n",
       " ('thing', 1),\n",
       " ('lack', 1),\n",
       " ('name', 1),\n",
       " ('order', 1),\n",
       " ('indicate', 1),\n",
       " ('necessary', 1),\n",
       " ('point', 1),\n",
       " ('weekend', 1),\n",
       " ('vulture', 1),\n",
       " ('presidential', 1),\n",
       " ('palace', 1),\n",
       " ('peck', 1),\n",
       " ('screen', 1),\n",
       " ('balcony', 1),\n",
       " ('window', 1),\n",
       " ('flapping', 1),\n",
       " ('wing', 1),\n",
       " ('stir', 1),\n",
       " ('stagnant', 1),\n",
       " ('inside', 1),\n",
       " ('dawn', 1),\n",
       " ('Monday', 1),\n",
       " ('city', 1),\n",
       " ('lethargy', 1),\n",
       " ('century', 1),\n",
       " ('warm', 1),\n",
       " ('soft', 1),\n",
       " ('breeze', 1),\n",
       " ('great', 1),\n",
       " ('dad', 1),\n",
       " ('rot', 1),\n",
       " ('grandeur', 1),\n",
       " ('day', 1),\n",
       " ('kill', 1),\n",
       " ('Santiago', 1),\n",
       " ('Nasar', 1),\n",
       " ('thirty', 1),\n",
       " ('morning', 1),\n",
       " ('wait', 1),\n",
       " ('boat', 1),\n",
       " ('bishop', 1),\n",
       " ('come', 1),\n",
       " ('grove', 1),\n",
       " ('timber', 1),\n",
       " ('tree', 1),\n",
       " ('gentle', 1),\n",
       " ('drizzle', 1),\n",
       " ('fall', 1),\n",
       " ('instant', 1),\n",
       " ('happy', 1),\n",
       " ('feel', 1),\n",
       " ('completely', 1),\n",
       " ('spatter', 1),\n",
       " ('bird', 1),\n",
       " ('shit', 1),\n",
       " ('inevitable', 1),\n",
       " ('scent', 1),\n",
       " ('bitter', 1),\n",
       " ('almond', 1),\n",
       " ('remind', 1),\n",
       " ('fate', 1),\n",
       " ('unrequited', 1),\n",
       " ('love', 1),\n",
       " ('Dr.', 1),\n",
       " ('Juvenal', 1),\n",
       " ('Urbino', 1),\n",
       " ('notice', 1),\n",
       " ('soon', 1),\n",
       " ('enter', 1),\n",
       " ('darkened', 1),\n",
       " ('hurry', 1),\n",
       " ('urgent', 1),\n",
       " ('attend', 1),\n",
       " ('case', 1),\n",
       " ('lose', 1),\n",
       " ('urgency', 1),\n",
       " ('antillean', 1),\n",
       " ('refugee', 1),\n",
       " ('Jeremiah', 1),\n",
       " ('de', 1),\n",
       " ('Saint', 1),\n",
       " ('Amour', 1),\n",
       " ('disabled', 1),\n",
       " ('war', 1),\n",
       " ('veteran', 1),\n",
       " ('photographer', 1),\n",
       " ('child', 1),\n",
       " ('sympathetic', 1),\n",
       " ('opponent', 1),\n",
       " ('chess', 1),\n",
       " ('escape', 1),\n",
       " ('torment', 1),\n",
       " ('memory', 1),\n",
       " ('aromatic', 1),\n",
       " ('fume', 1),\n",
       " ('gold', 1),\n",
       " ('cyanide', 1),\n",
       " ('José', 1),\n",
       " ('Palacios', 1),\n",
       " ('old', 1),\n",
       " ('servant', 1),\n",
       " ('find', 1),\n",
       " ('float', 1),\n",
       " ('naked', 1),\n",
       " ('eye', 1),\n",
       " ('open', 1),\n",
       " ('purify', 1),\n",
       " ('bath', 1),\n",
       " ('think', 1),\n",
       " ('drown', 1),\n",
       " ('know', 1),\n",
       " ('way', 1),\n",
       " ('General', 1),\n",
       " ('meditate', 1),\n",
       " ('ecstasy', 1),\n",
       " ('lie', 1),\n",
       " ('drift', 1),\n",
       " ('long', 1)]"
      ]
     },
     "execution_count": 20,
     "metadata": {},
     "output_type": "execute_result"
    }
   ],
   "source": [
    "sorted(corpus.word_counts(by=\"lemma_\").items(), key=lambda x: x[1], reverse=True)"
   ]
  },
  {
   "cell_type": "code",
   "execution_count": 21,
   "metadata": {},
   "outputs": [],
   "source": [
    "from textacy.representations import Vectorizer\n",
    "\n",
    "vectorizer = Vectorizer(tf_type=\"linear\", idf_type=\"smooth\")\n",
    "doc_term_matrix = vectorizer.fit_transform(\n",
    "    ((term.lemma_ for term in extract.terms(doc, ngs=1, ents=True)) for doc in corpus)\n",
    ")"
   ]
  },
  {
   "cell_type": "code",
   "execution_count": 22,
   "metadata": {},
   "outputs": [
    {
     "name": "stdout",
     "output_type": "stream",
     "text": [
      "<5x168 sparse matrix of type '<class 'numpy.float64'>'\n",
      "\twith 176 stored elements in Compressed Sparse Row format>\n"
     ]
    }
   ],
   "source": [
    "print(repr(doc_term_matrix))\n"
   ]
  },
  {
   "cell_type": "code",
   "execution_count": 23,
   "metadata": {},
   "outputs": [
    {
     "data": {
      "text/plain": [
       "array([[1.69314718],\n",
       "       [0.        ],\n",
       "       [0.        ],\n",
       "       [1.69314718],\n",
       "       [0.        ]])"
      ]
     },
     "execution_count": 23,
     "metadata": {},
     "output_type": "execute_result"
    }
   ],
   "source": [
    "doc_term_matrix[:, vectorizer.vocabulary_terms[\"year\"]].toarray()"
   ]
  },
  {
   "cell_type": "code",
   "execution_count": 24,
   "metadata": {},
   "outputs": [
    {
     "data": {
      "text/plain": [
       "('Aureliano',\n",
       " {'Colonel': {'weight': 4},\n",
       "  'face': {'weight': 1},\n",
       "  'firing': {'weight': 2},\n",
       "  'squad': {'weight': 3},\n",
       "  'Buendía': {'weight': 4},\n",
       "  'remember': {'weight': 3},\n",
       "  'distant': {'weight': 2},\n",
       "  'afternoon': {'weight': 1}})"
      ]
     },
     "execution_count": 24,
     "metadata": {},
     "output_type": "execute_result"
    }
   ],
   "source": [
    "from textacy.representations import build_cooccurrence_network\n",
    "\n",
    "cooc_graph = build_cooccurrence_network(\n",
    "    [[term.lemma_ for term in extract.terms(doc, ngs=1, ents=True)] for doc in corpus],\n",
    "    window_size=5,\n",
    ")\n",
    "cooc_graph.number_of_nodes(), cooc_graph.number_of_edges()\n",
    "sorted(cooc_graph.adjacency())[1]"
   ]
  },
  {
   "cell_type": "code",
   "execution_count": 25,
   "metadata": {},
   "outputs": [
    {
     "data": {
      "text/plain": [
       "'Doc(93 tokens: \"Many years later, as he faced the firing squad,...\")'"
      ]
     },
     "execution_count": 25,
     "metadata": {},
     "output_type": "execute_result"
    }
   ],
   "source": [
    "doc = textacy.make_spacy_doc(text, lang=\"en_core_web_md\")\n",
    "doc._.preview"
   ]
  },
  {
   "cell_type": "code",
   "execution_count": 27,
   "metadata": {},
   "outputs": [
    {
     "data": {
      "text/plain": [
       "[faced the firing,\n",
       " Colonel Aureliano Buendía,\n",
       " remember that distant,\n",
       " river of clear,\n",
       " water that ran,\n",
       " bed of polished,\n",
       " white and enormous,\n",
       " like prehistoric eggs,\n",
       " things lacked names,\n",
       " order to indicate,\n",
       " necessary to point]"
      ]
     },
     "execution_count": 27,
     "metadata": {},
     "output_type": "execute_result"
    }
   ],
   "source": [
    "from textacy import extract\n",
    "\n",
    "list(extract.ngrams(doc, 3, filter_punct=True))\n"
   ]
  },
  {
   "cell_type": "code",
   "execution_count": 28,
   "metadata": {},
   "outputs": [
    {
     "data": {
      "text/plain": [
       "[he,\n",
       " firing squad,\n",
       " Colonel Aureliano Buendía,\n",
       " distant afternoon,\n",
       " his father,\n",
       " him,\n",
       " ice,\n",
       " time,\n",
       " Macondo,\n",
       " village,\n",
       " twenty adobe houses,\n",
       " bank,\n",
       " river,\n",
       " clear water,\n",
       " that,\n",
       " bed,\n",
       " polished stones,\n",
       " which,\n",
       " prehistoric eggs,\n",
       " world,\n",
       " many things,\n",
       " names,\n",
       " order,\n",
       " them,\n",
       " it]"
      ]
     },
     "execution_count": 28,
     "metadata": {},
     "output_type": "execute_result"
    }
   ],
   "source": [
    "list(extract.noun_chunks(doc, drop_determiners=True))"
   ]
  },
  {
   "cell_type": "code",
   "execution_count": 29,
   "metadata": {},
   "outputs": [
    {
     "data": {
      "text/plain": [
       "[SVOTriple(subject=[he], verb=[faced], object=[firing, squad]),\n",
       " SVOTriple(subject=[father], verb=[took], object=[him]),\n",
       " SVOTriple(subject=[things], verb=[lacked], object=[names])]"
      ]
     },
     "execution_count": 29,
     "metadata": {},
     "output_type": "execute_result"
    }
   ],
   "source": [
    "list(extract.subject_verb_object_triples(doc))\n"
   ]
  },
  {
   "cell_type": "code",
   "execution_count": 30,
   "metadata": {},
   "outputs": [
    {
     "data": {
      "text/plain": [
       "[('Colonel Aureliano Buendía', 0.03514023923288048),\n",
       " ('distant afternoon', 0.025702252401637468),\n",
       " ('prehistoric egg', 0.02413546693014402),\n",
       " ('adobe house', 0.02373257673368041),\n",
       " ('firing squad', 0.02260215506120479),\n",
       " ('clear water', 0.022531163291437),\n",
       " ('time Macondo', 0.022468625324399062),\n",
       " ('polished stone', 0.022324901110696762),\n",
       " ('father', 0.01347633614501534),\n",
       " ('thing', 0.012444923735098302)]"
      ]
     },
     "execution_count": 30,
     "metadata": {},
     "output_type": "execute_result"
    }
   ],
   "source": [
    "extract.keyterms.textrank(doc, normalize=\"lemma\", topn=10)"
   ]
  },
  {
   "cell_type": "code",
   "execution_count": 32,
   "metadata": {},
   "outputs": [
    {
     "name": "stdout",
     "output_type": "stream",
     "text": [
      "mixed types\n",
      "0.18359439311764025 1\n",
      "[mixed types]\n",
      "systems\n",
      "0.1784796193107821 3\n",
      "[systems, systems, systems]\n",
      "minimal generating sets\n",
      "0.15037838042245094 1\n",
      "[minimal generating sets]\n",
      "nonstrict inequations\n",
      "0.14740065982407313 1\n",
      "[nonstrict inequations]\n",
      "strict inequations\n",
      "0.13946027725597837 1\n",
      "[strict inequations]\n",
      "linear Diophantine equations\n",
      "0.1195023546245721 1\n",
      "[linear Diophantine equations]\n",
      "natural numbers\n",
      "0.11450088293222845 1\n",
      "[natural numbers]\n",
      "solutions\n",
      "0.10780718173686318 3\n",
      "[solutions, solutions, solutions]\n",
      "linear constraints\n",
      "0.10529828014583348 1\n",
      "[linear constraints]\n",
      "all the considered types systems\n",
      "0.1036960590708142 1\n",
      "[all the considered types systems]\n",
      "a minimal supporting set\n",
      "0.08812713074893187 1\n",
      "[a minimal supporting set]\n",
      "linear\n",
      "0.08444534702772151 1\n",
      "[linear]\n",
      "a system\n",
      "0.08243620500315359 1\n",
      "[a system]\n",
      "a minimal set\n",
      "0.07944607954086784 1\n",
      "[a minimal set]\n",
      "algorithms\n",
      "0.0763527926213032 1\n",
      "[algorithms]\n",
      "all types\n",
      "0.07593126037016427 1\n",
      "[all types]\n",
      "Diophantine\n",
      "0.07309361902551355 1\n",
      "[Diophantine]\n",
      "construction\n",
      "0.0702090100898443 1\n",
      "[construction]\n",
      "the set\n",
      "0.05800111772673988 1\n",
      "[the set]\n",
      "components\n",
      "0.054251394765316464 1\n",
      "[components]\n",
      "Compatibility\n",
      "0.04516904342912139 1\n",
      "[Compatibility]\n",
      "compatibility\n",
      "0.04516904342912139 1\n",
      "[compatibility]\n",
      "the corresponding algorithms\n",
      "0.04435648606848154 1\n",
      "[the corresponding algorithms]\n",
      "Criteria\n",
      "0.042273783712246285 1\n",
      "[Criteria]\n",
      "These criteria\n",
      "0.01952542432474353 1\n",
      "[These criteria]\n"
     ]
    }
   ],
   "source": [
    "import spacy\n",
    "import pytextrank\n",
    "\n",
    "text = \"Compatibility of systems of linear constraints over the set of natural numbers. Criteria of compatibility of a system of linear Diophantine equations, strict inequations, and nonstrict inequations are considered. Upper bounds for components of a minimal set of solutions and algorithms of construction of minimal generating sets of solutions for all types of systems are given. These criteria and the corresponding algorithms for constructing a minimal supporting set of solutions can be used in solving all the considered types systems and systems of mixed types.\"\n",
    "\n",
    "nlp = spacy.load(\"en_core_web_sm\")\n",
    "# Add PytextRank to spacy pipeline\n",
    "nlp.add_pipe(\"textrank\")\n",
    "doc = nlp(text)\n",
    "for phrase in doc._.phrases:\n",
    "    print(phrase.text)\n",
    "    print(phrase.rank, phrase.count)\n",
    "    print(phrase.chunks)"
   ]
  },
  {
   "cell_type": "code",
   "execution_count": null,
   "metadata": {},
   "outputs": [],
   "source": []
  },
  {
   "cell_type": "code",
   "execution_count": null,
   "metadata": {},
   "outputs": [],
   "source": []
  }
 ],
 "metadata": {
  "kernelspec": {
   "display_name": "base",
   "language": "python",
   "name": "python3"
  },
  "language_info": {
   "codemirror_mode": {
    "name": "ipython",
    "version": 3
   },
   "file_extension": ".py",
   "mimetype": "text/x-python",
   "name": "python",
   "nbconvert_exporter": "python",
   "pygments_lexer": "ipython3",
   "version": "3.10.9"
  }
 },
 "nbformat": 4,
 "nbformat_minor": 2
}
