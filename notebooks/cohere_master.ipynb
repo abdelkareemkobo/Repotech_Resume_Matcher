{
 "cells": [
  {
   "cell_type": "markdown",
   "metadata": {},
   "source": [
    "# Prompts Templates\n",
    "## First One \n",
    "I have the following Job description keywords' {x} and the following job resume keywords {y} how to suggest words or sentences to replace from my resume according to the job description to increase the Cosine similiarty and be able to paypass the ATS Resume checking process, here are some guidence for how to optimize my resume: \n",
    "1. Carefully tailor your resume to the job description every single time you apply \n",
    "2. Optimize for ATS search and ranking algorithms by matching your resume keywords to the job description \n",
    "3. Use both the long-form and acronym version of keywords(e.g \"Master of Business Administration (MBA)\" or \"Search Engine Optimization(SEO)\") for maximum searchability\n",
    "4. Use a chronological or hybird resume format and avoid functional resume format\n",
    "5. Don't use table or columns as they often cause major parsing errors\n",
    "6. Use a traditional resume font like :*Helvetica, Garamond or Georiga*\n",
    "7. Don't use headers or footers as the information might get lost or cause a parsing error. \n",
    "8. User Standard resume section heading like \"Work Experience\" rather than being cute or clever (\"Where i've been\")\n"
   ]
  },
  {
   "cell_type": "code",
   "execution_count": 1,
   "metadata": {},
   "outputs": [
    {
     "name": "stdout",
     "output_type": "stream",
     "text": [
      "Prediction:  Here are some suggestions for words or sentences to replace in your resume according to the job description to increase the Cosine similarity:\n",
      "\n",
      "- Instead of \"Gotham Event Planner\" as your professional summary, you could use \"MERN Stack Developer with years of experience building web applications using Expressjs, React, and Nodejs\"\n",
      "- Replace \"Mobilealt /linkedininbwayne\" with your actual LinkedIn profile URL.\n",
      "- In the experience section, replace \"June Present\" with \"Present\" and \"June June\" with \"June 2021 - Present\" to clarify your current employment status.\n",
      "- In the experience section, replace \"MERN Stack Developer OpenAI, San Francisco USA\" with \"MERN Stack Developer at OpenAI, San Francisco USA\" to improve the clarity of your job title.\n",
      "- In the experience section, add more details about your work at OpenAI, such as \"Working on the development of the ChatGPT project using Nodejs, Expressjs, and React\" to highlight your relevant experience.\n",
      "- In the skills section, replace \"Python Machine Learning basics\" with \"Python (Machine Learning)\" to better reflect your skills.\n",
      "- In the education section, replace \"PhD Computer Science CalTech Pasadena USA\" with \"Ph.D. in Computer Science from CalTech, Pasadena USA\" to improve the clarity of your degree.\n",
      "- In the education section, replace \"Master Science Computer Science MIT Cambridge USA\" with \"Master of Science in Computer Science from MIT, Cambridge USA\" to correct the spelling of \"Cambridge\".\n",
      "- In the education section, replace \"Bachelor Science Computer Science UC San Diego San Diego USA\" with \"Bachelor of Science in Computer Science from the University of California, San Diego, USA\" to include the full name of the university.\n",
      "\n",
      "Remember to tailor your resume to the job description every time you apply, optimize for ATS search and ranking algorithms, use both the long-form and acronym versions of keywords, use a chronological or hybrid resume format, avoid functional resume format, don't use tables or columns, use a traditional resume font, don't use headers or footers, and use standard resume section headings.\n"
     ]
    }
   ],
   "source": [
    "import cohere\n",
    "\n",
    "co = cohere.Client(\n",
    "    \"replace_this_with_your_cohere_api_key\"\n",
    ")  # This is your trial API key\n",
    "response = co.generate(\n",
    "    model=\"command\",\n",
    "    prompt='I have the following Job description keywords\"Job Description Senior Full Stack Engineer Years Experience Tech Solutions San Francisco CA USA Us Tech Solutions technology company solutions variety industries mission lives technology Senior Full Stack Engineer team Job Description Senior Full Stack Engineer years experience web applications candidate experience frontend technologies projects conception production deployment Responsibilities end website architecture •Designing user interactions web pages end website applications servers databases functionality crossplatform optimization phones project conception product •Designing APIs consumer needs •Staying developments web applications programming languages Requirements Computer Science field •5 years experience web development •Strong project management skills •Proficiency end languages HTML CSS JavaScript •Proficiency serverside languages Python Ruby Java PHP Net •Familiarity database technology MySQL Oracle MongoDB communication skills •Attention Benefits salary package •Health vision insurance savings plan development opportunities work hours Tech Solutions opportunity employer diversity company resume explanation experience\" and the following  Resume keywords \"Bruce Wayne MERN Stack Developer123 Gotham St Gotham USA ♂ ¶obilealt /linkedininbwayne Professional Summary MERN Stack Developer years experience building web applications Expressjs React Nodejs development AI technologies OpenAI focus ChatGPT project Skills JavaScript TypeScript MongoDB Expressjs React Nodejs MERN APIs Git GitHub Docker Kubernetes Agile Scrum Python Machine Learning basics Experience June PresentMERN Stack Developer OpenAI San Francisco USA Working development ChatGPT project Nodejs Expressjs React services communication frontend Utilizing Docker Kubernetes deployment management applications environment highquality software sprint design implementation machine algorithms language processing tasks July May 2020Full Stack Developer Uber San Francisco USA Developed web applications MERN stack performance quality responsiveness applications solutions Docker Kubernetes Collaborated team engineers product managers UX designers team developers code reviews adherence practices data science team recommendation algorithms user experience June June Developer Facebook Menlo Park USA features Facebook web application React performance MongoDB APIs communication parts application testdriven development environment legacy system MERN stack architecture Education PhD Computer Science CalTech Pasadena USA Master Science Computer Science MIT Cambridge USA Bachelor Science Computer Science UC San Diego San Diego USA Projects PresentPersonal Project Gotham Event Planner web application events Gotham city MERN stack development Docker deployment application users manage events integrates Google Maps API event locations\" how to suggests words or sentences to replace from my resume according to the job description to increase the Cosine similiarty and be able to pypass the ATS resume Checking process and icnrease the cosine similiarty and here some guidence for how to optimize your resume : 1. Carefully tailor your resume to the job description every single time you apply \\n2. Optimize for ATS search and ranking algorithms by matching your resume keywords to the job description \\n3. Use both the long-form and acronym version of keywords(e.g \"Master of Business Administration (MBA)\" or \"Search Engine Optimization(SEO)\") for maximum searchability\\n4. Use a chronological or hybird resume format and avoid functional resume format\\n5. Don\\'t use table or columns as they often cause major parsing errors\\n6. Use a traditional resume font like :*Helvetica, Garamond or Georiga*\\n7. Don\\'t use headers or footers as the information might get lost or cause a parsing error. \\n8. User Standard resume section heading like \"Work Experience\" rather than being cute or clever (\"Where i\\'ve been\")\\n',\n",
    "    max_tokens=4096,\n",
    "    temperature=0.9,\n",
    "    k=0,\n",
    "    stop_sequences=[],\n",
    "    return_likelihoods=\"NONE\",\n",
    ")\n",
    "print(\"Prediction: {}\".format(response.generations[0].text))"
   ]
  },
  {
   "cell_type": "code",
   "execution_count": null,
   "metadata": {},
   "outputs": [],
   "source": []
  },
  {
   "cell_type": "code",
   "execution_count": null,
   "metadata": {},
   "outputs": [],
   "source": []
  },
  {
   "cell_type": "code",
   "execution_count": null,
   "metadata": {},
   "outputs": [],
   "source": []
  }
 ],
 "metadata": {
  "kernelspec": {
   "display_name": "base",
   "language": "python",
   "name": "python3"
  },
  "language_info": {
   "codemirror_mode": {
    "name": "ipython",
    "version": 3
   },
   "file_extension": ".py",
   "mimetype": "text/x-python",
   "name": "python",
   "nbconvert_exporter": "python",
   "pygments_lexer": "ipython3",
   "version": "3.10.9"
  }
 },
 "nbformat": 4,
 "nbformat_minor": 2
}
